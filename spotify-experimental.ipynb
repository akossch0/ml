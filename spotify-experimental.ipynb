{
 "cells": [
  {
   "cell_type": "code",
   "execution_count": 82,
   "metadata": {},
   "outputs": [],
   "source": [
    "import spotipy as spt\n",
    "import dotenv\n",
    "from langsmith import Client\n",
    "\n",
    "dotenv.load_dotenv()\n",
    "\n",
    "client = Client()"
   ]
  },
  {
   "cell_type": "markdown",
   "metadata": {},
   "source": [
    "## Spotify Authentication"
   ]
  },
  {
   "cell_type": "code",
   "execution_count": 3,
   "metadata": {},
   "outputs": [],
   "source": [
    "from spotipy.oauth2 import SpotifyOAuth\n",
    "\n",
    "SCOPE = 'user-modify-playback-state user-library-read user-read-email user-read-private user-top-read user-modify-playback-state user-read-playback-state'\n",
    "REDIRECT_URI = 'http://localhost:8888/callback'\n",
    "\n",
    "sp = spt.Spotify(auth_manager=SpotifyOAuth(scope=SCOPE, redirect_uri=REDIRECT_URI))\n"
   ]
  },
  {
   "cell_type": "markdown",
   "metadata": {},
   "source": [
    "## Current playlists"
   ]
  },
  {
   "cell_type": "code",
   "execution_count": 4,
   "metadata": {},
   "outputs": [
    {
     "name": "stdout",
     "output_type": "stream",
     "text": [
      "0 synth\n",
      "1 instrumental/jazzy\n",
      "2 indie\n",
      "3 m\n",
      "4 roadtrip\n",
      "5 alt\n",
      "6 hip hop\n",
      "7 house\n",
      "8 classic hiphop\n",
      "9 retro groovy\n",
      "10 classical\n",
      "11 Demolition Soundtrack\n"
     ]
    }
   ],
   "source": [
    "results = sp.current_user_playlists(limit=50)\n",
    "for i, item in enumerate(results['items']):\n",
    "    print(\"%d %s\" % (i, item['name']))"
   ]
  },
  {
   "cell_type": "markdown",
   "metadata": {},
   "source": [
    "## Liked songs"
   ]
  },
  {
   "cell_type": "code",
   "execution_count": 5,
   "metadata": {},
   "outputs": [
    {
     "name": "stdout",
     "output_type": "stream",
     "text": [
      "0 Frankie Stew and Harvey Gunn  –  Skimming Stones\n",
      "1 Thee Sacred Souls  –  Easier Said Than Done\n",
      "2 Tash Sultana  –  Notion\n",
      "3 Masego  –  Navajo\n",
      "4 Robohands  –  Whole\n",
      "5 Fog Lake  –  Almost Fantasy\n",
      "6 Turnover  –  Temporary Love\n",
      "7 Patrick Watson  –  Je te laisserai des mots\n",
      "8 Jóhann Jóhannsson  –  A Sparrow Alighted Upon Our Shoulder\n",
      "9 The Strokes  –  At The Door\n",
      "10 Jeff Buckley  –  Lover, You Should've Come Over\n",
      "11 Grizzly Bear  –  Ready, Able\n",
      "12 Declan McKenna  –  Brazil\n",
      "13 Sticky Fingers  –  Rum Rage\n",
      "14 Her  –  Her\n",
      "15 My Morning Jacket  –  Tyrone\n",
      "16 Current Joys  –  Fear\n",
      "17 Dream, Ivory  –  Amateur Night\n",
      "18 .com  –  Lover For Tonight\n",
      "19 Harmless  –  Pier Café\n",
      "20 No Vacation  –  Waltzing Back\n",
      "21 Beach Vacation  –  Lost In Sight\n",
      "22 Depeche Mode  –  Enjoy the Silence\n",
      "23 Tame Impala  –  Jeremy's Storm\n",
      "24 LCD Soundsystem  –  Home\n",
      "25 The Afghan Whigs  –  Algiers\n",
      "26 A Tribe Called Quest  –  Conrad Tokyo (feat. Kendrick Lamar & Jack White)\n",
      "27 Drake  –  Yebba’s Heartbreak\n",
      "28 ALYSS  –  Pyramid\n",
      "29 Medasin  –  magic\n",
      "30 Nujabes  –  sea of cloud\n",
      "31 Aphex Twin  –  Fingerbib\n",
      "32 Alek Olsen  –  someday i'll get it\n",
      "33 Nicolas Michaux  –  Amusement Park\n",
      "34 Intim Torna Illegál  –  Vágjál lyukat a kádba\n",
      "35 Freak Slug  –  Disorder\n",
      "36 Blood Orange  –  Champagne Coast\n",
      "37 Angus & Julia Stone  –  Draw Your Swords\n",
      "38 The xx  –  Crystalised\n",
      "39 Brambles  –  Pink And Golden Billows\n",
      "40 The Cinematic Orchestra  –  To Build A Home\n",
      "41 M83  –  Vision, pt. 1\n",
      "42 Theodore Shapiro  –  Skateboard Delivery\n",
      "43 M83  –  I Guess I'm Floating\n",
      "44 The Be Good Tanyas  –  Waiting Around To Die\n",
      "45 Fontaines D.C.  –  Roman Holiday\n",
      "46 Hector Gachan  –  Tell Me I'm Here\n",
      "47 Obsimo  –  Seito\n",
      "48 Bennett Coast  –  Pretender\n",
      "49 Rob Jenkins  –  Egni Anweledig One\n"
     ]
    }
   ],
   "source": [
    "import json\n",
    "\n",
    "results = sp.current_user_saved_tracks(limit=50)\n",
    "for idx, item in enumerate(results['items']):\n",
    "    track = item['track']\n",
    "    print(idx, track['artists'][0]['name'], \" – \", track['name'])\n",
    "\n",
    "# dump results to json\n",
    "with open('experimental/50-last-liked-tacks-results.json', 'w') as f:\n",
    "    json.dump(results, f)"
   ]
  },
  {
   "cell_type": "markdown",
   "metadata": {},
   "source": [
    "### Curate tracks dataset"
   ]
  },
  {
   "cell_type": "code",
   "execution_count": 6,
   "metadata": {},
   "outputs": [],
   "source": [
    "liked_songs_size = sp.current_user_saved_tracks(limit=1)['total']\n",
    "batch_size = 50\n",
    "liked_songs = []\n",
    "for i in range(0, liked_songs_size, batch_size):\n",
    "    results = sp.current_user_saved_tracks(limit=batch_size, offset=i)\n",
    "    for idx, item in enumerate(results['items']):\n",
    "        track = {}\n",
    "        track['added_at'] = item['added_at']\n",
    "        track['id'] = item['track']['id']\n",
    "        track['uri'] = item['track']['uri']\n",
    "        track['name'] = item['track']['name']\n",
    "        track['popularity'] = item['track']['popularity']\n",
    "        track['track_number'] = item['track']['track_number'] # order in album\n",
    "        track['disc_number'] = item['track']['disc_number'] # which disc in album\n",
    "        track['explicit'] = item['track']['explicit']\n",
    "        track['duration_ms'] = item['track']['duration_ms']\n",
    "        track['album_id'] = item['track']['album']['id']\n",
    "        track['album_name'] = item['track']['album']['name']\n",
    "        track['album_uri'] = item['track']['album']['uri']\n",
    "        track['artists'] = [artist['id'] for artist in item['track']['artists']]\n",
    "        liked_songs.append(track)\n",
    "\n",
    "with open('experimental/liked_songs.json', 'w') as f:\n",
    "    json.dump(liked_songs, f)"
   ]
  },
  {
   "cell_type": "code",
   "execution_count": 7,
   "metadata": {},
   "outputs": [
    {
     "data": {
      "text/plain": [
       "'There are 356 liked songs.'"
      ]
     },
     "execution_count": 7,
     "metadata": {},
     "output_type": "execute_result"
    }
   ],
   "source": [
    "f\"There are {len(liked_songs)} liked songs.\""
   ]
  },
  {
   "cell_type": "code",
   "execution_count": 8,
   "metadata": {},
   "outputs": [
    {
     "data": {
      "text/plain": [
       "[{'danceability': 0.547,\n",
       "  'energy': 0.399,\n",
       "  'key': 10,\n",
       "  'loudness': -9.808,\n",
       "  'mode': 1,\n",
       "  'speechiness': 0.0246,\n",
       "  'acousticness': 0.668,\n",
       "  'instrumentalness': 2.81e-06,\n",
       "  'liveness': 0.132,\n",
       "  'valence': 0.563,\n",
       "  'tempo': 84.127,\n",
       "  'type': 'audio_features',\n",
       "  'id': '4zIeRcsaho6lZuaXEYR1y3',\n",
       "  'uri': 'spotify:track:4zIeRcsaho6lZuaXEYR1y3',\n",
       "  'track_href': 'https://api.spotify.com/v1/tracks/4zIeRcsaho6lZuaXEYR1y3',\n",
       "  'analysis_url': 'https://api.spotify.com/v1/audio-analysis/4zIeRcsaho6lZuaXEYR1y3',\n",
       "  'duration_ms': 174707,\n",
       "  'time_signature': 4}]"
      ]
     },
     "execution_count": 8,
     "metadata": {},
     "output_type": "execute_result"
    }
   ],
   "source": [
    "# get audio features\n",
    "sp.audio_features(['4zIeRcsaho6lZuaXEYR1y3'])"
   ]
  },
  {
   "cell_type": "code",
   "execution_count": 9,
   "metadata": {},
   "outputs": [],
   "source": [
    "audio_features = ['danceability', 'energy', 'key', 'loudness', 'mode', 'speechiness', 'acousticness', 'instrumentalness', 'liveness', 'valence', 'tempo']\n",
    "\n",
    "for i in range(0, len(liked_songs), 50):\n",
    "    ids = [song['id'] for song in liked_songs[i:i+50]]\n",
    "    features = sp.audio_features(ids)\n",
    "    for idx, feature in enumerate(features):\n",
    "        for af in audio_features:\n",
    "            liked_songs[i+idx][af] = feature[af]\n",
    "\n",
    "with open('experimental/liked_songs_with_audio_features.json', 'w') as f:\n",
    "    json.dump(liked_songs, f)\n"
   ]
  },
  {
   "cell_type": "markdown",
   "metadata": {},
   "source": [
    "### Curate albums dataset"
   ]
  },
  {
   "cell_type": "code",
   "execution_count": 159,
   "metadata": {},
   "outputs": [
    {
     "data": {
      "text/plain": [
       "'Thee Sacred Souls'"
      ]
     },
     "execution_count": 159,
     "metadata": {},
     "output_type": "execute_result"
    }
   ],
   "source": [
    "sp.album('6ofJrAZaaX0iWTXYXObUxE')['name']"
   ]
  },
  {
   "cell_type": "code",
   "execution_count": 11,
   "metadata": {},
   "outputs": [
    {
     "name": "stdout",
     "output_type": "stream",
     "text": [
      "There are 336 albums in the liked songs\n"
     ]
    }
   ],
   "source": [
    "album_ids = list(set([song['album_id'] for song in liked_songs]))\n",
    "albums = []\n",
    "for i in range(0, len(album_ids), 20):\n",
    "    ids = album_ids[i:i+20]\n",
    "    for a in sp.albums(ids)['albums']:\n",
    "        album = {}\n",
    "        album['id'] = a['id']\n",
    "        album['uri'] = a['uri']\n",
    "        album['type'] = a['album_type']\n",
    "        album['total_tracks'] = a['total_tracks']\n",
    "        album['name'] = a['name']\n",
    "        album['release_date'] = a['release_date']\n",
    "        album['release_date_precision'] = a['release_date_precision']\n",
    "        album['artists'] = [artist['id'] for artist in a['artists']]\n",
    "        album['tracks'] = [track['id'] for track in a['tracks']['items']]\n",
    "        album['genres'] = a['genres']\n",
    "        album['label'] = a['label']\n",
    "        album['popularity'] = a['popularity']\n",
    "        albums.append(album)\n",
    "\n",
    "print(f\"There are {len(albums)} albums in the liked songs\")\n",
    "\n",
    "with open('experimental/albums.json', 'w') as f:\n",
    "    json.dump(albums, f)"
   ]
  },
  {
   "cell_type": "code",
   "execution_count": 12,
   "metadata": {},
   "outputs": [
    {
     "data": {
      "text/plain": [
       "'There are 356 liked songs.'"
      ]
     },
     "execution_count": 12,
     "metadata": {},
     "output_type": "execute_result"
    }
   ],
   "source": [
    "f\"There are {len(liked_songs)} liked songs.\""
   ]
  },
  {
   "cell_type": "code",
   "execution_count": 13,
   "metadata": {},
   "outputs": [
    {
     "data": {
      "text/plain": [
       "335"
      ]
     },
     "execution_count": 13,
     "metadata": {},
     "output_type": "execute_result"
    }
   ],
   "source": [
    "len(set([a['name'] for a in albums]))"
   ]
  },
  {
   "cell_type": "code",
   "execution_count": 14,
   "metadata": {},
   "outputs": [
    {
     "data": {
      "text/plain": [
       "{'Waltzing Back': 2}"
      ]
     },
     "execution_count": 14,
     "metadata": {},
     "output_type": "execute_result"
    }
   ],
   "source": [
    "# which two albums have the same name?\n",
    "from collections import Counter\n",
    "album_names = [a['name'] for a in albums]\n",
    "album_name_counter = Counter(album_names)\n",
    "duplicates = {k: v for k, v in album_name_counter.items() if v > 1}\n",
    "duplicates"
   ]
  },
  {
   "cell_type": "code",
   "execution_count": 15,
   "metadata": {},
   "outputs": [
    {
     "data": {
      "text/plain": [
       "[{'id': '5yHn5NJqFHuRscn44o9POq',\n",
       "  'uri': 'spotify:album:5yHn5NJqFHuRscn44o9POq',\n",
       "  'type': 'single',\n",
       "  'total_tracks': 1,\n",
       "  'name': 'Waltzing Back',\n",
       "  'release_date': '2021-07-14',\n",
       "  'release_date_precision': 'day',\n",
       "  'artists': ['32zeX1IoVKAGWMyy1isKUq'],\n",
       "  'tracks': ['3Q1DprZauQyNo8KGlY8brZ'],\n",
       "  'genres': [],\n",
       "  'label': 'Topshelf Records',\n",
       "  'popularity': 0},\n",
       " {'id': '5j49mR7hcvrACDJZNVTmpu',\n",
       "  'uri': 'spotify:album:5j49mR7hcvrACDJZNVTmpu',\n",
       "  'type': 'single',\n",
       "  'total_tracks': 1,\n",
       "  'name': 'Waltzing Back',\n",
       "  'release_date': '2021-07-14',\n",
       "  'release_date_precision': 'day',\n",
       "  'artists': ['32zeX1IoVKAGWMyy1isKUq'],\n",
       "  'tracks': ['3JcvpTfI64SmXxUl7XUvQI'],\n",
       "  'genres': [],\n",
       "  'label': 'Topshelf Records',\n",
       "  'popularity': 46}]"
      ]
     },
     "execution_count": 15,
     "metadata": {},
     "output_type": "execute_result"
    }
   ],
   "source": [
    "[a for a in albums if a['name'] == 'Waltzing Back']"
   ]
  },
  {
   "cell_type": "markdown",
   "metadata": {},
   "source": [
    "This looks like an error."
   ]
  },
  {
   "cell_type": "code",
   "execution_count": 16,
   "metadata": {},
   "outputs": [
    {
     "data": {
      "text/plain": [
       "'There are 0 genres from albums'"
      ]
     },
     "execution_count": 16,
     "metadata": {},
     "output_type": "execute_result"
    }
   ],
   "source": [
    "# get all genres\n",
    "genres = set()\n",
    "for a in albums:\n",
    "    genres.update(set(a['genres']))\n",
    "\n",
    "f\"There are {len(genres)} genres from albums\""
   ]
  },
  {
   "cell_type": "markdown",
   "metadata": {},
   "source": [
    "Seems like genres have not been annotated for the albums."
   ]
  },
  {
   "cell_type": "markdown",
   "metadata": {},
   "source": [
    "### Curate artists dataset"
   ]
  },
  {
   "cell_type": "code",
   "execution_count": 17,
   "metadata": {},
   "outputs": [],
   "source": [
    "artist_ids_from_albums = set([artist for album in albums for artist in album['artists']])\n",
    "artist_ids_from_songs = set([artist for song in liked_songs for artist in song['artists']])\n",
    "artist_ids = artist_ids_from_albums.union(artist_ids_from_songs)"
   ]
  },
  {
   "cell_type": "code",
   "execution_count": 18,
   "metadata": {},
   "outputs": [
    {
     "name": "stderr",
     "output_type": "stream",
     "text": [
      "100%|██████████| 50/50 [00:19<00:00,  2.56it/s]\n",
      "100%|██████████| 50/50 [00:21<00:00,  2.38it/s]\n",
      "100%|██████████| 50/50 [00:20<00:00,  2.49it/s]\n",
      "100%|██████████| 50/50 [00:20<00:00,  2.45it/s]\n",
      "100%|██████████| 50/50 [00:19<00:00,  2.51it/s]\n",
      "100%|██████████| 50/50 [00:21<00:00,  2.34it/s]\n",
      "100%|██████████| 36/36 [00:15<00:00,  2.40it/s]\n"
     ]
    },
    {
     "data": {
      "text/plain": [
       "'There are 336 artists.'"
      ]
     },
     "execution_count": 18,
     "metadata": {},
     "output_type": "execute_result"
    }
   ],
   "source": [
    "from tqdm import tqdm\n",
    "\n",
    "artists = []\n",
    "for i in range(0, len(artist_ids), 50):\n",
    "    ids = list(artist_ids)[i:i+50]\n",
    "    for a in tqdm(sp.artists(ids)['artists']):\n",
    "        artist = {}\n",
    "        artist['id'] = a['id']\n",
    "        artist['uri'] = a['uri']\n",
    "        artist['name'] = a['name']\n",
    "        artist['genres'] = a['genres']\n",
    "        artist['popularity'] = a['popularity']\n",
    "        artist['followers'] = a['followers']['total']\n",
    "        artist['albums'] = [album['id'] for album in sp.artist_albums(a['id'])['items']]\n",
    "        artist['top_tracks'] = [track['id'] for track in sp.artist_top_tracks(a['id'])['tracks']]\n",
    "        artists.append(artist)\n",
    "\n",
    "with open('experimental/artists.json', 'w') as f:\n",
    "    json.dump(artists, f)\n",
    "\n",
    "f\"There are {len(artists)} artists.\""
   ]
  },
  {
   "cell_type": "code",
   "execution_count": 19,
   "metadata": {},
   "outputs": [
    {
     "data": {
      "text/plain": [
       "['1LzNfuep1bnAUR9skqdHCK',\n",
       " '6JuEshIRliNXRU1LXctRjZ',\n",
       " '010ALbbh5KlQ4fKWgSdhRd',\n",
       " '3BdHMOIA9B0bN53jbE5nWe',\n",
       " '3R6kyOmqWcAsqZqqe9CGL0',\n",
       " '7l5nkTZpoD93OkynN0gcon',\n",
       " '2qV5Ce0sMlFsrseRO5CTMU',\n",
       " '7Gwi3AOnlyXkt6yJzU3BmM',\n",
       " '7pfqtkZsNheOoDziqquDT3',\n",
       " '4V79NKNUFkjzHWcPLtdlNM']"
      ]
     },
     "execution_count": 19,
     "metadata": {},
     "output_type": "execute_result"
    }
   ],
   "source": [
    "[track['id'] for track in sp.artist_top_tracks('37w38cCSGgKLdayTRjna4W')['tracks']]"
   ]
  },
  {
   "cell_type": "code",
   "execution_count": 20,
   "metadata": {},
   "outputs": [
    {
     "data": {
      "text/plain": [
       "'There are 382 genres from artists'"
      ]
     },
     "execution_count": 20,
     "metadata": {},
     "output_type": "execute_result"
    }
   ],
   "source": [
    "genres = set()\n",
    "for a in artists:\n",
    "    genres.update(set(a['genres']))\n",
    "\n",
    "f\"There are {len(genres)} genres from artists\""
   ]
  },
  {
   "cell_type": "code",
   "execution_count": 21,
   "metadata": {},
   "outputs": [
    {
     "data": {
      "text/plain": [
       "[('indietronica', 35),\n",
       " ('rock', 32),\n",
       " ('modern rock', 31),\n",
       " ('indie rock', 29),\n",
       " ('alternative rock', 28),\n",
       " ('electronica', 24),\n",
       " ('permanent wave', 19),\n",
       " ('hip hop', 18),\n",
       " ('pov: indie', 17),\n",
       " ('rap', 16),\n",
       " ('neo-psychedelic', 14),\n",
       " ('melancholia', 13),\n",
       " ('chamber pop', 13),\n",
       " ('neo-synthpop', 12),\n",
       " ('stomp and holler', 12),\n",
       " ('dream pop', 12),\n",
       " ('indie soul', 11),\n",
       " ('art pop', 11),\n",
       " ('modern dream pop', 11),\n",
       " ('modern alternative rock', 11),\n",
       " ('downtempo', 10),\n",
       " ('art rock', 10),\n",
       " ('indie folk', 9),\n",
       " ('alternative dance', 9),\n",
       " ('oxford indie', 9),\n",
       " ('shoegaze', 9),\n",
       " ('lo-fi indie', 8),\n",
       " ('compositional ambient', 8),\n",
       " ('indie garage rock', 8),\n",
       " ('conscious hip hop', 8)]"
      ]
     },
     "execution_count": 21,
     "metadata": {},
     "output_type": "execute_result"
    }
   ],
   "source": [
    "genres = list()\n",
    "for song in liked_songs:\n",
    "    artist_ids = song['artists']\n",
    "    for artist_id in artist_ids:\n",
    "        artist = [a for a in artists if a['id'] == artist_id][0]\n",
    "        genres.extend(artist['genres'])\n",
    "\n",
    "from collections import Counter\n",
    "genre_counter = Counter(genres)\n",
    "genre_counter.most_common(30)"
   ]
  },
  {
   "cell_type": "code",
   "execution_count": 22,
   "metadata": {},
   "outputs": [],
   "source": [
    "# save the genre counter in order\n",
    "with open('experimental/genre_counter.json', 'w') as f:\n",
    "    json.dump(genre_counter.most_common(len(genre_counter)), f)"
   ]
  },
  {
   "cell_type": "code",
   "execution_count": 23,
   "metadata": {},
   "outputs": [
    {
     "data": {
      "text/plain": [
       "2.550595238095238"
      ]
     },
     "execution_count": 23,
     "metadata": {},
     "output_type": "execute_result"
    }
   ],
   "source": [
    "# get the average number of genres per artist\n",
    "from statistics import mean\n",
    "mean([len(a['genres']) for a in artists])"
   ]
  },
  {
   "cell_type": "code",
   "execution_count": 24,
   "metadata": {},
   "outputs": [
    {
     "data": {
      "image/png": "[encoded data removed]",
      "text/plain": [
       "<Figure size 640x480 with 1 Axes>"
      ]
     },
     "metadata": {},
     "output_type": "display_data"
    }
   ],
   "source": [
    "# plot the distribution of the number of genres per artist in 10 bins\n",
    "import matplotlib.pyplot as plt\n",
    "plt.hist([len(a['genres']) for a in artists], bins=10)\n",
    "plt.show()\n"
   ]
  },
  {
   "cell_type": "code",
   "execution_count": 25,
   "metadata": {},
   "outputs": [
    {
     "data": {
      "text/plain": [
       "['DIIV',\n",
       " 'Jack White',\n",
       " 'Leon Vynehall',\n",
       " 'Grouper',\n",
       " 'Arcade Fire',\n",
       " 'LCD Soundsystem',\n",
       " 'Joy Division']"
      ]
     },
     "execution_count": 25,
     "metadata": {},
     "output_type": "execute_result"
    }
   ],
   "source": [
    "# get artists with more than 8 genres\n",
    "[a['name'] for a in artists if len(a['genres']) > 8]"
   ]
  },
  {
   "cell_type": "code",
   "execution_count": 26,
   "metadata": {},
   "outputs": [
    {
     "data": {
      "text/plain": [
       "['alternative rock',\n",
       " 'baroque pop',\n",
       " 'canadian indie',\n",
       " 'canadian indie rock',\n",
       " 'chamber pop',\n",
       " 'indie rock',\n",
       " 'indietronica',\n",
       " 'modern rock',\n",
       " 'permanent wave',\n",
       " 'quebec indie',\n",
       " 'rock']"
      ]
     },
     "execution_count": 26,
     "metadata": {},
     "output_type": "execute_result"
    }
   ],
   "source": [
    "# get arcades fire\n",
    "[a['genres'] for a in artists if a['name'] == 'Arcade Fire'][0]"
   ]
  },
  {
   "cell_type": "markdown",
   "metadata": {},
   "source": [
    "## Genre information retrieval"
   ]
  },
  {
   "cell_type": "code",
   "execution_count": 27,
   "metadata": {},
   "outputs": [],
   "source": [
    "import requests\n",
    "import os\n",
    "\n",
    "def get_top_tags(api_key, artist, track, mbid=None, autocorrect=None):\n",
    "    url = \"http://ws.audioscrobbler.com/2.0/\"\n",
    "    params = {\n",
    "        \"method\": \"track.getTopTags\",\n",
    "        \"artist\": artist,\n",
    "        \"track\": track,\n",
    "        \"api_key\": api_key,\n",
    "        \"format\": \"json\"  # You can change the format to \"xml\" if you prefer XML response\n",
    "    }\n",
    "    if mbid:\n",
    "        params[\"mbid\"] = mbid\n",
    "    if autocorrect is not None:\n",
    "        params[\"autocorrect\"] = autocorrect\n",
    "\n",
    "    response = requests.get(url, params=params)\n",
    "    data = response.json()\n",
    "    return data\n"
   ]
  },
  {
   "cell_type": "code",
   "execution_count": 28,
   "metadata": {},
   "outputs": [],
   "source": [
    "last_fm_api_key = os.getenv(\"LAST_FM_API_KEY\")\n",
    "artist = \"Coldplay\"\n",
    "track = \"Yellow\"\n",
    "result = get_top_tags(last_fm_api_key, artist, track)\n",
    "# save the result to a file\n",
    "with open('experimental/last_fm_top_tags_coldplay_yellow.json', 'w') as f:\n",
    "    json.dump(result, f)"
   ]
  },
  {
   "cell_type": "code",
   "execution_count": 29,
   "metadata": {},
   "outputs": [
    {
     "name": "stdout",
     "output_type": "stream",
     "text": [
      "Top tags for Jeff Buckley - Lover, You Should've Come Over is [('singer-songwriter', 100), ('rock', 81), ('beautiful', 52), ('Love', 47), ('jeff buckley', 46), ('Mellow', 29), ('indie', 25), ('alternative', 24), ('alternative rock', 21), ('90s', 21), ('acoustic', 17), ('sad', 16), ('favorites', 15), ('melancholy', 13), ('folk', 12), ('melancholic', 12), ('chillout', 11), ('chill', 11), ('favorite songs', 11), ('emotional', 10), ('male vocalists', 10), ('Favorite', 10), ('american', 9), ('pop', 8), ('indie rock', 8), ('Awesome', 8), ('guitar', 8), ('Masterpiece', 8), ('Perfection', 7), ('great lyrics', 6), ('easy listening', 5), ('genius', 5), ('amazing', 5), ('folk rock', 5), ('intense', 5), ('Favourites', 5), ('romance', 5), ('lover', 5), ('heartbroken', 5), ('classic rock', 4), ('epic', 4), ('romantic', 4), ('dramatic', 4), ('relax', 4), ('love at first listen', 4), ('1994', 4), ('vule', 4), ('love-sickness emergency-care-kitt', 4), ('love hurts', 4), ('vocal', 3), ('atmospheric', 3), ('favourite', 3), ('intimate', 3), ('male vocalist', 3), ('love songs', 3), ('best song ever', 3), ('Heartbreaking', 3), ('heartbreak', 3), ('alt rock', 3), ('brilliant', 3), ('Beautiful Songs', 3), ('Great Lyricists', 3), ('nostalgia', 3), ('rock ballad', 3), ('sweet', 3), ('love song', 3), ('Love it', 3), ('1990s', 3), ('Favourite Songs', 3), ('mmm', 3), ('Buckley', 3), ('depressive', 3), ('please be a man and sing this to me', 3), ('tantotempotaste', 3), ('melancholy days', 3), ('fuck i love this', 3), ('Jeff Buckley is his own category', 3), ('vugube62', 3), ('soul', 2), ('Dead', 2), ('sexy', 2), ('soft rock', 2), ('blues', 2), ('me', 2), ('longing', 2), ('waltz', 2), ('eu', 2), ('beauty', 2), ('pretty', 2), ('smooth', 2), ('Rainy Day', 2), ('loved', 2), ('live', 2), ('crooners', 2), ('desire', 2), ('lovely', 2), ('poignant', 2), ('wow', 2), ('comfort', 2), ('perfect', 2)]\n",
      "Top tags for Grizzly Bear - Ready, Able is [('indie', 100), ('folk', 63), ('beautiful', 50), ('Dreamy', 38), ('melancholy', 34), ('experimental', 30), ('psychedelic', 30), ('00s', 21), ('pure genius', 21), ('rock', 17), ('2009', 17), ('indie rock', 17), ('freak folk', 17), ('daydream', 17), ('epic', 13), ('electro indie dream', 13), ('vugube62', 13), ('electronic', 9), ('alternative', 9), ('chamber pop', 9), ('dream pop', 9), ('american', 9), ('amazing', 9), ('Psychedelic Rock', 9), ('indie folk', 9), ('loved', 9), ('best of 2009', 9), ('One of the best things to ever happen to me', 9), ('the ears of my ears awake', 9), ('propably my song for 2009', 9), ('chillout', 5), ('seen live', 5), ('chill', 5), ('soul', 5), ('favorite songs', 5), ('new york', 5), ('sad', 5), ('downtempo', 5), ('USA', 5), ('Love', 5), ('omg', 5), ('Lo-Fi', 5), ('Awesome', 5), ('Warp', 5), ('weird', 5), ('haunting', 5), ('Avant-Garde', 5), ('genius', 5), ('Mellow', 5), ('avantgarde', 5), ('Sleep', 5), ('Warp Records', 5), ('New Weird America', 5), ('melancholic', 5), ('sex', 5), ('fip', 5), ('trippy', 5), ('suave', 5), ('psychedelic folk', 5), ('psych folk', 5), ('best song ever', 5), ('video', 5), ('Obsession', 5), ('Sigh and swoon in equal measure', 5), ('alt rock', 5), ('brilliant', 5), ('lovely', 5), ('i love this fucking song', 5), ('music to get the pussy wet', 5), ('import', 5), ('Seduction', 5), ('grizzly bear', 5), ('Perfection', 5), ('best of 2010', 5), ('running', 5), ('underwater', 5), ('fuck yeah', 5), ('i love it', 5), ('Masterpiece', 5), ('radio paradise', 5), ('radioparadise', 5), ('Dream', 5), ('lush', 5), ('easy', 5), ('dreaming', 5), ('songs', 5), ('LSD', 5), ('Beirut', 5), ('Shadows', 5), ('mellotron', 5), ('music to melt to', 5), ('neo-folk', 5), ('winter music', 5), ('love at first sound', 5), ('loved tracks', 5), ('best songs of 2009', 5), ('enamored with', 5), ('2009 favorites', 5), ('mesmerizing', 5), ('Perfect song', 5)]\n",
      "Top tags for Declan McKenna - Brazil is [('indie', 100), ('alternative', 75), ('rock', 50), ('pop', 25), ('british', 25), ('folk', 25), ('indie rock', 25), ('brazil', 25), ('aaa', 25), ('fip', 25), ('2010s', 25), ('heard live', 25), ('fire', 25), ('conan', 25), ('rock alternative', 25), ('2014 single', 25), ('bbc radio1 playlist 2015', 25), ('violao', 25), ('Inglaterra', 25), ('favorites 2015', 25), ('clipe', 25), ('vibez', 25), ('Estudo', 25), ('lovethatindiestuff', 25), ('sei a letra', 25), ('made at 16', 25), ('spring 24', 25)]\n",
      "Top tags for Sticky Fingers - Rum Rage is [('pop', 100), ('rock', 100), ('alternative rock', 100), ('reggae', 100), ('indie rock', 100), ('pop reggae', 100), ('caribbean music', 100), ('Jamaican music', 100), ('regional music', 100)]\n",
      "Top tags for My Morning Jacket - Tyrone is [('cover', 100), ('covers', 80), ('cover songs', 60), ('The Covers Record', 60), ('rock', 40), ('me likey', 40), ('good cover', 40), ('nu profile', 40), ('Mellow', 20), ('sex', 20), ('Erykah Badu', 20), ('My Morning Jacket', 20), ('good music', 20), ('create new tag', 20), ('good song', 20), ('bytefm', 20), ('in the mood', 20), ('great cover song', 20), ('fabfuckintastic', 20), ('perfect cover versions', 20), ('tyrone - my morning jacket', 20)]\n",
      "Top tags for Harmless - Pier Café is [('instrumental', 100)]\n"
     ]
    }
   ],
   "source": [
    "for song in liked_songs[10:20]:\n",
    "    for artist_id in song['artists']:\n",
    "        artist = [a for a in artists if a['id'] == artist_id][0]\n",
    "        tags = get_top_tags(last_fm_api_key, artist['name'], song['name'])\n",
    "        if 'toptags' in tags and 'tag' in tags['toptags']:\n",
    "            top_tags = tags['toptags']['tag']\n",
    "            if len(top_tags) > 0:\n",
    "                ts = [(t['name'], t['count']) for t in top_tags]\n",
    "                print(f\"Top tags for {artist['name']} - {song['name']} is {ts}\")\n"
   ]
  },
  {
   "cell_type": "markdown",
   "metadata": {},
   "source": [
    "Looks like the top tags contains unrelated information to genre. We will develop a method that will extract the genre information from the top tags."
   ]
  },
  {
   "cell_type": "markdown",
   "metadata": {},
   "source": [
    "## Defining a taxonomy"
   ]
  },
  {
   "cell_type": "markdown",
   "metadata": {},
   "source": [
    "For this it is also important to define a taxonomy of genres.\n",
    "- [Automatic Genre Classification of Musical Signals](https://www.researchgate.net/publication/26620180_Automatic_Genre_Classification_of_Musical_Signals)\n",
    "\n",
    "MUSIC\n",
    "- Classical\n",
    "  - Instrumental\n",
    "    - Piano\n",
    "    - Orchestra\n",
    "  - Vocal\n",
    "    - Opera\n",
    "    - Chorus\n",
    "- Dance\n",
    "  - Vocal\n",
    "    - Hip-Hop\n",
    "    - Reggae\n",
    "  - Percussion\n",
    "    - Jazz\n",
    "    - Latin\n",
    "- Pop/Rock\n",
    "  - Organic\n",
    "    - Rock\n",
    "    - Country\n",
    "  - Electronic\n",
    "    - Pop\n",
    "    - Techno\n",
    "\n",
    "This taxonomy could work if the dataset is balanced. However, it is not the case. Large proportion of the dataset is pop/rock. This implies the taxonomy should be more detailed on that branch, however, the further down the branch we go, the more ambgiuous and subjective the classification becomes, as the genres are more similar to each other, the decision boundary becomes more blurred."
   ]
  },
  {
   "cell_type": "code",
   "execution_count": 30,
   "metadata": {},
   "outputs": [
    {
     "data": {
      "text/plain": [
       "(377, 356)"
      ]
     },
     "execution_count": 30,
     "metadata": {},
     "output_type": "execute_result"
    }
   ],
   "source": [
    "len(genre_counter), len(liked_songs)"
   ]
  },
  {
   "cell_type": "markdown",
   "metadata": {},
   "source": [
    "The idea is to use the combination of top tags and spotify's artist level genre information to extract the relevant genre classes for each song. Since there is high variability in the top tags (sometimes it is not even genre), as well as the artist level genre information is too specific (377 genres for 355 songs), it is very hard to come up with a rule based system to extract the genre information. Therefore, we will use a large language models to extract the genre information from the top tags and artist level genre information, utiliziing their intrinsic knowledge of the language and reasoning capabilities."
   ]
  },
  {
   "cell_type": "markdown",
   "metadata": {},
   "source": [
    "Using a large langauge model, we also created a taxonomy of genres, which is more tailored to the dataset. The taxonomy is as follows:\n",
    "MUSIC\n",
    "- Rock\n",
    "  - Alternative Rock\n",
    "  - Indie Rock\n",
    "  - Modern Rock\n",
    "  - Punk\n",
    "  - Grunge\n",
    "- Electronic\n",
    "  - Electronica\n",
    "  - EDM\n",
    "  - House\n",
    "  - Techno\n",
    "  - Synthwave\n",
    "- Hip Hop/Rap\n",
    "  - Hip Hop\n",
    "  - Rap\n",
    "  - Trap\n",
    "  - Lo-Fi Hip Hop\n",
    "- Pop\n",
    "  - Indie Pop\n",
    "  - Synthpop\n",
    "  - Pop Rock\n",
    "  - R&B\n",
    "- Folk/Country\n",
    "  - Folk\n",
    "  - Country\n",
    "  - Americana\n",
    "  - Bluegrass\n",
    "- Experimental/Avant-Garde\n",
    "  - Experimental\n",
    "  - Avant-Garde\n",
    "  - Noise\n",
    "- World/Fusion\n",
    "  - World Music\n",
    "  - Reggae\n",
    "  - Latin\n",
    "  - Afrobeat\n",
    "  - Fusion\n",
    "- Classical/Jazz\n",
    "  - Classical\n",
    "  - Jazz\n",
    "- Other/Unique\n",
    "  - Other/Unique\n"
   ]
  },
  {
   "cell_type": "code",
   "execution_count": 72,
   "metadata": {},
   "outputs": [],
   "source": [
    "genre_taxonomy = \"\"\"\n",
    "- Rock\n",
    "  - Alternative\n",
    "  - Indie\n",
    "  - Classic Rock\n",
    "- Electronic\n",
    "  - Electronica\n",
    "  - EDM\n",
    "  - House\n",
    "  - Techno\n",
    "  - Synthwave\n",
    "- Hip Hop/Rap\n",
    "  - Hip Hop\n",
    "  - Rap\n",
    "  - Lo-Fi Hip Hop\n",
    "- Pop\n",
    "  - Synthpop\n",
    "  - Indie Pop\n",
    "  - Pop Rock\n",
    "  - R&B\n",
    "- Folk/World\n",
    "  - Folk\n",
    "  - Americana\n",
    "  - World Music\n",
    "  - Reggae\n",
    "  - Country\n",
    "- Classical/Jazz\n",
    "  - Classical\n",
    "  - Jazz\n",
    "  - Blues\n",
    "- Other\n",
    "  - Other\n",
    "\"\"\""
   ]
  },
  {
   "cell_type": "code",
   "execution_count": 137,
   "metadata": {},
   "outputs": [],
   "source": [
    "subgenres = {\n",
    "    \"alternative\": \"rock\",\n",
    "    \"indie\": \"rock\",\n",
    "    \"classic rock\": \"rock\",\n",
    "    \"electronica\": \"electronic\",\n",
    "    \"edm\": \"electronic\",\n",
    "    \"house\": \"electronic\",\n",
    "    \"techno\": \"electronic\",\n",
    "    \"synthwave\": \"electronic\",\n",
    "    \"hip hop\": \"hip hop/rap\",\n",
    "    \"rap\": \"hip hop/rap\",\n",
    "    \"lo-fi hip hop\": \"hip hop/rap\",\n",
    "    \"indie pop\": \"pop\",\n",
    "    \"synthpop\": \"pop\",\n",
    "    \"pop rock\": \"pop\",\n",
    "    \"r&b\": \"pop\",\n",
    "    \"folk\": \"folk/world\",\n",
    "    \"country\": \"folk/world\",\n",
    "    \"americana\": \"folk/world\",\n",
    "    \"reggae\": \"folk/world\",\n",
    "    \"classical\": \"classical/jazz\",\n",
    "    \"jazz\": \"classical/jazz\",\n",
    "    \"other\": \"other\",\n",
    "}"
   ]
  },
  {
   "cell_type": "markdown",
   "metadata": {},
   "source": [
    "### Using gpt-4 turbo with langchain to infer genres"
   ]
  },
  {
   "cell_type": "markdown",
   "metadata": {},
   "source": [
    "The pydantic model below is needed for structured output parsing of LLMs."
   ]
  },
  {
   "cell_type": "code",
   "execution_count": 98,
   "metadata": {},
   "outputs": [],
   "source": [
    "from langchain_core.pydantic_v1 import BaseModel, Field\n",
    "from typing import List, Optional\n",
    "from langchain_core.prompts import ChatPromptTemplate\n",
    "from enum import Enum\n",
    "\n",
    "class Genre(str, Enum):\n",
    "    Alternative_Rock = \"alternative\"\n",
    "    Indie_Rock = \"indie\"\n",
    "    Classic_Rock = \"classic rock\"\n",
    "    Electronica = \"electronica\"\n",
    "    EDM = \"edm\"\n",
    "    House = \"house\"\n",
    "    Techno = \"techno\"\n",
    "    Synthwave = \"synthwave\"\n",
    "    Hip_Hop = \"hip hop\"\n",
    "    Rap = \"rap\"\n",
    "    Lo_Fi_Hip_Hop = \"lo-fi hip hop\"\n",
    "    Indie_Pop = \"indie pop\"\n",
    "    Synthpop = \"synthpop\"\n",
    "    Pop_Rock = \"pop rock\"\n",
    "    R_B = \"r&b\"\n",
    "    Folk = \"folk\"\n",
    "    Country = \"country\"\n",
    "    Americana = \"americana\"\n",
    "    Reggae = \"reggae\"\n",
    "    Classical = \"classical\"\n",
    "    Jazz = \"jazz\"\n",
    "    Other = \"other\"\n",
    "\n",
    "class Song(BaseModel):\n",
    "    id: str = Field(..., description=\"The spotify id of a song\")\n",
    "    name: str = Field(..., description=\"The name of a song\")\n",
    "    sub_genre: str = Field(..., description=f\"The sub-genre of a song, possible values are {', '.join([g.value for g in Genre])}\")\n",
    "    # this directly implies the parent genre\n",
    "\n",
    "class Songs(BaseModel):\n",
    "    songs: List[Song] = Field(\n",
    "        default=None,\n",
    "        title=\"List of songs containing id, name and sub-genre\",\n",
    "    )"
   ]
  },
  {
   "cell_type": "code",
   "execution_count": 91,
   "metadata": {},
   "outputs": [],
   "source": [
    "song_genre_prompt = ChatPromptTemplate.from_template(\n",
    "    \"\"\"\n",
    "    You are a music expert and you are tasked with categorizing songs into sub-genres. You have access to the following information:\n",
    "    \n",
    "    - A list of songs and their corresponding context. You are given the top tags for each song from Last.fm, and the tag's score. In some cases, the tags contain genres, in others they might contain unrelated information. Sometimes there are non-genre related information with a high score. You should only take into account the tags that are related to genres. Sometimes the tags that are related to genres might have a different name like 'indie rock' instead of 'indie'. Use the genre taxonomy to map these tags to the genres. You should only consider the tags that are related to genres.\n",
    "    On top of this, you are given all the spotify genres, that were extracted from the song's artists. You need to use this information and your previous knowledge to extract which sub-genre each song belongs to. These spotify genres are very specific and you should not use them directly as sub-genres. You should use the list of availabel sub-genres to map these genres to the sub-genres.\n",
    "    Here are the songs you need to categorize with the above-mentioned context:\n",
    "    {list_of_songs_with_context}\n",
    "    \n",
    "    - The list of sub-genres that you need to base the categorization on:\n",
    "    {genre_taxonomy}\n",
    "    Make sure that when you classify a song into a sub-genre, you can only select one from the list you are given. Do NOT come up with new sub-genres.\n",
    "    Make sure you return ALL of the songs that you were given in the list, with the sub-genre that you have assigned to them. You can only assign one sub-genre to each song. PAY SPECIAL ATTENTION to the fact that there is a pool of genres that you need to choose from, and you should not come up with new ones. THIS IS VERY IMPORTANT.\n",
    "    \"\"\"\n",
    ")\n"
   ]
  },
  {
   "cell_type": "markdown",
   "metadata": {},
   "source": [
    "Spotify genre context."
   ]
  },
  {
   "cell_type": "code",
   "execution_count": 35,
   "metadata": {},
   "outputs": [],
   "source": [
    "spotify_artist_genres_by_song = {}\n",
    "for song in liked_songs:\n",
    "    for artist_id in song['artists']:\n",
    "        artist = [a for a in artists if a['id'] == artist_id][0]\n",
    "        if song['id'] not in spotify_artist_genres_by_song:\n",
    "            spotify_artist_genres_by_song[song['id']] = set()\n",
    "        spotify_artist_genres_by_song[song['id']].update(set(artist['genres']))"
   ]
  },
  {
   "cell_type": "code",
   "execution_count": 160,
   "metadata": {},
   "outputs": [
    {
     "data": {
      "text/plain": [
       "{'indie folk', 'indie quebecois'}"
      ]
     },
     "execution_count": 160,
     "metadata": {},
     "output_type": "execute_result"
    }
   ],
   "source": [
    "spotify_artist_genres_by_song['0V5cvmTKsYmF5FmGGEAfmS']"
   ]
  },
  {
   "cell_type": "markdown",
   "metadata": {},
   "source": [
    "Last fm genre context."
   ]
  },
  {
   "cell_type": "code",
   "execution_count": 37,
   "metadata": {},
   "outputs": [
    {
     "name": "stderr",
     "output_type": "stream",
     "text": [
      "100%|██████████| 356/356 [01:09<00:00,  5.16it/s]\n"
     ]
    }
   ],
   "source": [
    "top_tags_by_song = {}\n",
    "for song in tqdm(liked_songs):\n",
    "    for artist_id in song['artists']:\n",
    "        artist = [a for a in artists if a['id'] == artist_id][0]\n",
    "        tags = get_top_tags(last_fm_api_key, artist['name'], song['name'])\n",
    "        if 'toptags' in tags and 'tag' in tags['toptags']:\n",
    "            top_tags = tags['toptags']['tag']\n",
    "            if len(top_tags) > 0:\n",
    "                ts = [(t['name'], t['count']) for t in top_tags if len(t['name']) > 2] # filter out tags with less than 3 characters\n",
    "                top_tags_by_song[song['id']] = ts[:10] # only take the top 10 tags"
   ]
  },
  {
   "cell_type": "code",
   "execution_count": 38,
   "metadata": {},
   "outputs": [
    {
     "data": {
      "text/plain": [
       "[('french', 100),\n",
       " ('indie', 100),\n",
       " ('beautiful', 100),\n",
       " ('beauty', 100),\n",
       " ('indie folk', 100),\n",
       " ('Ballad', 100),\n",
       " ('personal favourites', 100),\n",
       " ('amour', 100),\n",
       " ('JessicAnime', 100),\n",
       " ('MySpotigramBot', 100)]"
      ]
     },
     "execution_count": 38,
     "metadata": {},
     "output_type": "execute_result"
    }
   ],
   "source": [
    "top_tags_by_song.get('0V5cvmTKsYmF5FmGGEAfmS')"
   ]
  },
  {
   "cell_type": "markdown",
   "metadata": {},
   "source": [
    "- construct context for prompt\n",
    "- create batches of 10, shoudl be 36 batches, 36 requests to LLM"
   ]
  },
  {
   "cell_type": "code",
   "execution_count": 114,
   "metadata": {},
   "outputs": [
    {
     "name": "stderr",
     "output_type": "stream",
     "text": [
      "100%|██████████| 89/89 [00:00<00:00, 25222.50it/s]\n"
     ]
    }
   ],
   "source": [
    "# iterate with X intervals through liked songs\n",
    "batch_size = 4\n",
    "batches_of_songs_with_context = []\n",
    "for i in tqdm(range(0, len(liked_songs), batch_size)):\n",
    "    songs = liked_songs[i:i+batch_size]\n",
    "    songs_with_context = []\n",
    "    for song in songs:\n",
    "        context = {\n",
    "            \"spotify_genres\": list(spotify_artist_genres_by_song[song['id']]),\n",
    "            \"last_fm_tags\": top_tags_by_song.get(song['id'], {})\n",
    "        }\n",
    "        songs_with_context.append({\n",
    "            \"id\": song['id'],\n",
    "            \"name\": song['name'],\n",
    "            \"context\": context\n",
    "        })\n",
    "    batches_of_songs_with_context.append(songs_with_context)"
   ]
  },
  {
   "cell_type": "code",
   "execution_count": 161,
   "metadata": {},
   "outputs": [
    {
     "data": {
      "text/plain": [
       "[{'id': '7dt7CivUMrw2VWyhT8ffbT',\n",
       "  'name': 'Whole',\n",
       "  'context': {'spotify_genres': ['uk contemporary jazz', 'indie jazz'],\n",
       "   'last_fm_tags': {}}},\n",
       " {'id': '30U7MwsSebniOJyZ8y1hcE',\n",
       "  'name': 'Almost Fantasy',\n",
       "  'context': {'spotify_genres': ['newfoundland indie',\n",
       "    'lo-fi indie',\n",
       "    'small room'],\n",
       "   'last_fm_tags': [('emo', 100)]}},\n",
       " {'id': '2DL6nA2xnGCeAGW296ZEe8',\n",
       "  'name': 'Temporary Love',\n",
       "  'context': {'spotify_genres': ['emo',\n",
       "    'alternative emo',\n",
       "    'chill dream pop',\n",
       "    'dreamo'],\n",
       "   'last_fm_tags': {}}},\n",
       " {'id': '0V5cvmTKsYmF5FmGGEAfmS',\n",
       "  'name': 'Je te laisserai des mots',\n",
       "  'context': {'spotify_genres': ['indie folk', 'indie quebecois'],\n",
       "   'last_fm_tags': [('french', 100),\n",
       "    ('indie', 100),\n",
       "    ('beautiful', 100),\n",
       "    ('beauty', 100),\n",
       "    ('indie folk', 100),\n",
       "    ('Ballad', 100),\n",
       "    ('personal favourites', 100),\n",
       "    ('amour', 100),\n",
       "    ('JessicAnime', 100),\n",
       "    ('MySpotigramBot', 100)]}}]"
      ]
     },
     "execution_count": 161,
     "metadata": {},
     "output_type": "execute_result"
    }
   ],
   "source": [
    "batches_of_songs_with_context[1]"
   ]
  },
  {
   "cell_type": "code",
   "execution_count": 115,
   "metadata": {},
   "outputs": [],
   "source": [
    "from langchain_openai import ChatOpenAI\n",
    "\n",
    "long_context_llm = ChatOpenAI(model=\"gpt-4-turbo-preview\", temperature=0.4)\n",
    "genre_classifier = song_genre_prompt | long_context_llm.with_structured_output(\n",
    "    Songs\n",
    ")"
   ]
  },
  {
   "cell_type": "code",
   "execution_count": 116,
   "metadata": {},
   "outputs": [],
   "source": [
    "classified_songs = genre_classifier.invoke(\n",
    "    {\n",
    "        \"genre_taxonomy\": {', '.join([g.value for g in Genre])},\n",
    "        \"list_of_songs_with_context\": batches_of_songs_with_context[1]\n",
    "    }\n",
    ")"
   ]
  },
  {
   "cell_type": "code",
   "execution_count": 119,
   "metadata": {},
   "outputs": [
    {
     "name": "stderr",
     "output_type": "stream",
     "text": [
      "100%|██████████| 89/89 [06:44<00:00,  4.55s/it]\n"
     ]
    }
   ],
   "source": [
    "classified_songs = []\n",
    "for batch in tqdm(batches_of_songs_with_context):\n",
    "    cl_songs = genre_classifier.invoke(\n",
    "        {\n",
    "            \"genre_taxonomy\": {', '.join([g.value for g in Genre])},\n",
    "            \"list_of_songs_with_context\": batch\n",
    "        }\n",
    "    )\n",
    "    classified_songs.extend(cl_songs.songs)"
   ]
  },
  {
   "cell_type": "code",
   "execution_count": 136,
   "metadata": {},
   "outputs": [
    {
     "name": "stdout",
     "output_type": "stream",
     "text": [
      "Skimming Stones is classified as hip hop\n",
      "Easier Said Than Done is classified as other\n",
      "Notion is classified as reggae\n",
      "Navajo is classified as r&b\n",
      "Whole is classified as jazz\n"
     ]
    }
   ],
   "source": [
    "for song in classified_songs[:5]:\n",
    "    print(f\"{song.name} is classified as {song.sub_genre}\")"
   ]
  },
  {
   "cell_type": "code",
   "execution_count": 124,
   "metadata": {},
   "outputs": [
    {
     "data": {
      "text/plain": [
       "356"
      ]
     },
     "execution_count": 124,
     "metadata": {},
     "output_type": "execute_result"
    }
   ],
   "source": [
    "len(classified_songs)"
   ]
  },
  {
   "cell_type": "markdown",
   "metadata": {},
   "source": [
    "### Validate the inferred genres"
   ]
  },
  {
   "cell_type": "code",
   "execution_count": 129,
   "metadata": {},
   "outputs": [
    {
     "name": "stdout",
     "output_type": "stream",
     "text": [
      "indie folk is not in the subgenres\n",
      "indie folk is not in the subgenres\n",
      "funk is not in the subgenres\n",
      "garage rock is not in the subgenres\n",
      "chill pop is not in the subgenres\n",
      "hungarian rock is not in the subgenres\n",
      "emo is not in the subgenres\n",
      "indie rock is not in the subgenres\n",
      "trip hop is not in the subgenres\n",
      "psychedelic is not in the subgenres\n",
      "indie rock is not in the subgenres\n",
      "indie rock is not in the subgenres\n",
      "psychedelic rock is not in the subgenres\n",
      "shoegaze is not in the subgenres\n",
      "indie rock is not in the subgenres\n",
      "shoegaze is not in the subgenres\n",
      "post-punk is not in the subgenres\n",
      "indie folk is not in the subgenres\n",
      "indie rock is not in the subgenres\n",
      "psychedelic rock is not in the subgenres\n",
      "dream pop is not in the subgenres\n",
      "indie rock is not in the subgenres\n",
      "ambient is not in the subgenres\n",
      "ambient is not in the subgenres\n",
      "lo-fi indie is not in the subgenres\n",
      "indie folk is not in the subgenres\n",
      "indie rock is not in the subgenres\n",
      "indie rock is not in the subgenres\n",
      "psychedelic rock is not in the subgenres\n"
     ]
    }
   ],
   "source": [
    "# check if the taxonomy actually contains these\n",
    "not_in_taxonomy = {}\n",
    "for song in classified_songs:\n",
    "    if song.sub_genre not in [g.value for g in Genre]:\n",
    "        print(f\"{song.sub_genre} is not in the subgenres\")\n",
    "        not_in_taxonomy[song.id] = song.sub_genre"
   ]
  },
  {
   "cell_type": "code",
   "execution_count": 135,
   "metadata": {},
   "outputs": [
    {
     "data": {
      "text/plain": [
       "{'ambient',\n",
       " 'chill pop',\n",
       " 'dream pop',\n",
       " 'emo',\n",
       " 'funk',\n",
       " 'garage rock',\n",
       " 'hungarian rock',\n",
       " 'indie folk',\n",
       " 'indie rock',\n",
       " 'lo-fi indie',\n",
       " 'post-punk',\n",
       " 'psychedelic',\n",
       " 'psychedelic rock',\n",
       " 'shoegaze',\n",
       " 'trip hop'}"
      ]
     },
     "execution_count": 135,
     "metadata": {},
     "output_type": "execute_result"
    }
   ],
   "source": [
    "set(not_in_taxonomy.values())"
   ]
  },
  {
   "cell_type": "code",
   "execution_count": 131,
   "metadata": {},
   "outputs": [
    {
     "data": {
      "text/plain": [
       "True"
      ]
     },
     "execution_count": 131,
     "metadata": {},
     "output_type": "execute_result"
    }
   ],
   "source": [
    "# check if all ids are in the liked songs\n",
    "all([song.id in [s['id'] for s in liked_songs] for song in classified_songs])"
   ]
  },
  {
   "cell_type": "code",
   "execution_count": 142,
   "metadata": {},
   "outputs": [
    {
     "data": {
      "text/plain": [
       "Counter({'indie': 50,\n",
       "         'electronica': 50,\n",
       "         'indie pop': 44,\n",
       "         'other': 39,\n",
       "         'hip hop': 28,\n",
       "         'alternative': 20,\n",
       "         'r&b': 17,\n",
       "         'classical': 12,\n",
       "         'synthpop': 11,\n",
       "         'folk': 10,\n",
       "         'lo-fi hip hop': 9,\n",
       "         'house': 8,\n",
       "         'indie rock': 8,\n",
       "         'classic rock': 7,\n",
       "         'pop rock': 5,\n",
       "         'jazz': 4,\n",
       "         'indie folk': 4,\n",
       "         'reggae': 3,\n",
       "         'americana': 3,\n",
       "         'psychedelic rock': 3,\n",
       "         'synthwave': 3,\n",
       "         'shoegaze': 2,\n",
       "         'ambient': 2,\n",
       "         'rap': 2,\n",
       "         'edm': 1,\n",
       "         'funk': 1,\n",
       "         'garage rock': 1,\n",
       "         'chill pop': 1,\n",
       "         'hungarian rock': 1,\n",
       "         'emo': 1,\n",
       "         'trip hop': 1,\n",
       "         'psychedelic': 1,\n",
       "         'post-punk': 1,\n",
       "         'techno': 1,\n",
       "         'dream pop': 1,\n",
       "         'lo-fi indie': 1})"
      ]
     },
     "execution_count": 142,
     "metadata": {},
     "output_type": "execute_result"
    }
   ],
   "source": [
    "# check frequency of genres\n",
    "from collections import Counter\n",
    "genre_counter = Counter([song.sub_genre for song in classified_songs])\n",
    "genre_counter"
   ]
  },
  {
   "cell_type": "code",
   "execution_count": 134,
   "metadata": {},
   "outputs": [],
   "source": [
    "# convert to dict\n",
    "classified_songs_dict = {song.id: song.sub_genre for song in classified_songs}\n",
    "# save to file\n",
    "with open('experimental/classified_songs.json', 'w') as f:\n",
    "    json.dump(classified_songs_dict, f)"
   ]
  },
  {
   "cell_type": "markdown",
   "metadata": {},
   "source": [
    "We will go over all misclassified songs and assign the correct genre to them, or adjust the taxonomy if necessary."
   ]
  },
  {
   "cell_type": "code",
   "execution_count": 141,
   "metadata": {},
   "outputs": [
    {
     "name": "stdout",
     "output_type": "stream",
     "text": [
      "0V5cvmTKsYmF5FmGGEAfmS\n",
      "Je te laisserai des mots by Patrick Watson is classified as indie folk\n",
      "spotify genres: indie folk, indie quebecois\n",
      "last fm tags: [('french', 100), ('indie', 100), ('beautiful', 100), ('beauty', 100), ('indie folk', 100), ('Ballad', 100), ('personal favourites', 100), ('amour', 100), ('JessicAnime', 100), ('MySpotigramBot', 100)]\n",
      "54KFQB6N4pn926IUUYZGzK\n",
      "To Build A Home by Patrick Watson, The Cinematic Orchestra is classified as indie folk\n",
      "spotify genres: downtempo, nu jazz, indie folk, indie quebecois\n",
      "last fm tags: [('loneliness after dusk', 100), ('pozytywne wibracje', 100)]\n",
      "7CH99b2i1TXS5P8UUyWtnM\n",
      "Them Changes by Thundercat is classified as funk\n",
      "spotify genres: indie soul, afrofuturism, escape room\n",
      "last fm tags: [('funk', 100), ('soul', 60), ('electronic', 40), ('jazz', 40), ('jazz fusion', 40), ('Neo-Soul', 40), ('2015', 40), ('imported by drip.feed', 40), ('nu jazz', 20), ('indie', 20)]\n",
      "76c1AuZodByXM3X2k48wju\n",
      "Dope on a Rope by The Growlers is classified as garage rock\n",
      "spotify genres: indie surf, garage rock revival, indie garage rock\n",
      "last fm tags: [('Lo-Fi', 100), ('american', 100), ('Garage Rock', 100), ('California', 100), ('Psychedelic Rock', 100), ('surf rock', 100), ('10s', 100)]\n",
      "56LT08MMJHU6cw27V2ekLi\n",
      "On My Side by Bennett Coast is classified as chill pop\n",
      "spotify genres: chill pop\n",
      "last fm tags: {}\n",
      "0SbqAmDVwJ0m8lxQZRbuoy\n",
      "Másnapos Dal by Lázár tesók is classified as hungarian rock\n",
      "spotify genres: magyar alternative, hungarian rock\n",
      "last fm tags: {}\n",
      "1acjIzGS1YUrx6nSuktnqU\n",
      "Safe In Your Skin by Title Fight is classified as emo\n",
      "spotify genres: dreamo, spacegrunge, grungegaze, alternative emo, emo\n",
      "last fm tags: [('punk rock', 100), ('pop punk', 100), ('male vocalist', 50), ('2011', 50), ('melodic hardcore', 50), ('2010s', 50), ('english lyrics', 50), ('Singing', 50), ('title fight', 50), ('walter schreifels', 50)]\n",
      "4fPBB44eDH71YohayI4eKV\n",
      "You Only Live Once by The Strokes is classified as indie rock\n",
      "spotify genres: garage rock, rock, alternative rock, modern rock, permanent wave\n",
      "last fm tags: [('indie rock', 100), ('rock', 81), ('indie', 71), ('alternative', 56), ('The Strokes', 40), ('alternative rock', 31), ('Garage Rock', 21), ('00s', 10), ('american', 9), ('new york', 8)]\n",
      "5gDWsRxpJ2lZAffh5p7K0w\n",
      "Stargirl Interlude by The Weeknd, Lana Del Rey is classified as trip hop\n",
      "spotify genres: pop, canadian pop, canadian contemporary r&b, art pop\n",
      "last fm tags: [('trip-hop', 100), ('epic', 100), ('trip hop', 100), ('Lana Del Rey', 100), ('interlude', 100), ('The Weeknd', 100)]\n",
      "0BaFtki3CupqritofvTRSj\n",
      "Lunes 1 De Abril by The Holydrug Couple is classified as psychedelic\n",
      "spotify genres: psicodelia chilena, neo-psychedelic\n",
      "last fm tags: {}\n",
      "2O5UcpKolgLT8l8yAvEmID\n",
      "Rest My Chemistry by Interpol is classified as indie rock\n",
      "spotify genres: rock, indie rock, alternative rock, modern rock, indietronica, alternative dance\n",
      "last fm tags: [('indie rock', 100), ('indie', 86), ('alternative', 67), ('rock', 49), ('interpol', 49), ('post-punk', 38), ('alternative rock', 25), ('melancholic', 18), ('beautiful', 12), ('new york', 11)]\n",
      "60OY6A1Eyz3a4aPDbV7LV0\n",
      "Untitled by Interpol is classified as indie rock\n",
      "spotify genres: rock, indie rock, alternative rock, modern rock, indietronica, alternative dance\n",
      "last fm tags: [('indie', 100), ('indie rock', 91), ('post-punk', 79), ('alternative', 60), ('rock', 56), ('alternative rock', 32), ('interpol', 30), ('new york', 19), ('melancholy', 19), ('beautiful', 16)]\n",
      "1tNwAjyfDSQvFeY5JKDw9b\n",
      "Pish by The Brian Jonestown Massacre is classified as psychedelic rock\n",
      "spotify genres: garage rock, alternative rock, indie rock, bay area indie, neo-psychedelic, noise pop, shoegaze\n",
      "last fm tags: [('Psychedelic Rock', 100), ('fip', 100), ('jeppf', 100)]\n",
      "30uvCVEYqgktyLfDcI76Hx\n",
      "Doused by DIIV is classified as shoegaze\n",
      "spotify genres: dream pop, indie rock, neo-psychedelic, nu gaze, brooklyn indie, modern dream pop, indie surf, shoegaze, dreamo\n",
      "last fm tags: [('shoegaze', 100), ('surf rock', 93), ('indie', 77), ('indie rock', 77), ('post-punk', 77), ('dream pop', 47), ('rock', 31), ('punk', 24), ('alternative', 24), ('psychedelic', 24)]\n",
      "629TAjfFRi1ealJowp24bo\n",
      "Touch Me I'm Going To Scream, Pt. 2 by My Morning Jacket is classified as indie rock\n",
      "spotify genres: jam band, indie rock, louisville indie, melancholia, chamber pop, stomp and holler, roots rock\n",
      "last fm tags: [('indie rock', 100), ('epic', 67), ('chillout', 50), ('rock', 34), ('alternative', 34), ('beautiful', 34), ('Favourites', 34), ('brilliant', 34), ('awesomeness', 34), ('indie', 17)]\n",
      "0oxYB9GoOIDrdzniNdKC44\n",
      "When the Sun Hits by Slowdive is classified as shoegaze\n",
      "spotify genres: reading indie, alternative rock, dream pop, shoegaze\n",
      "last fm tags: [('shoegaze', 100), ('dream pop', 50), ('Dreamy', 30), ('indie', 23), ('beautiful', 20), ('90s', 13), ('atmospheric', 13), ('ethereal', 11), ('british', 9), ('shoegazer', 7)]\n",
      "5fbQCQt91LsVgXusFS0CCD\n",
      "Disorder - 2007 Remaster by Joy Division is classified as post-punk\n",
      "spotify genres: new wave, punk, indie rock, rock, uk post-punk, alternative rock, madchester, art rock, post-punk\n",
      "last fm tags: [('post-punk', 100), ('rock', 34), ('new wave', 34), ('dance-punk', 34), ('70s', 17), ('punk', 17), ('alternative', 17), ('alternative rock', 17), ('indie rock', 17), ('dark', 17)]\n",
      "44DNg8OmuNKSDkccspGCIP\n",
      "My Love by Bahamas is classified as indie folk\n",
      "spotify genres: canadian indie, canadian singer-songwriter, indie folk, stomp and holler\n",
      "last fm tags: {}\n",
      "2kkX9IzielZhUBybezdE0m\n",
      "Parade by Kevin Morby is classified as indie rock\n",
      "spotify genres: kc indie, chamber pop, indie rock, modern folk rock\n",
      "last fm tags: [('fav', 100), ('2014', 100), ('nachspiel', 100), ('mtv catfish', 100), ('gr last', 100)]\n",
      "4WFcerMZkAIcIizZYXNNrb\n",
      "Pink Ocean by The Voidz is classified as psychedelic rock\n",
      "spotify genres: modern alternative rock\n",
      "last fm tags: [('rock', 100), ('psychedelic', 100), ('Psychedelic Rock', 100)]\n",
      "26CfdVmYf0hNvP6SJXF0vQ\n",
      "Lemon Glow by Beach House is classified as dream pop\n",
      "spotify genres: dream pop, indie rock, modern dream pop, indietronica, baltimore indie, pov: indie, dreamo\n",
      "last fm tags: [('dream pop', 100), ('dreampop', 67), ('experimental', 34), ('indie pop', 34), ('shoegaze', 34), ('psychedelic', 34), ('love at first listen', 34), ('eclectonia', 34), ('Neo-Psychedelia', 34), ('nighttime', 34)]\n",
      "7brQHA2CgQpcMBiOlfiXYb\n",
      "Afraid by The Neighbourhood is classified as indie rock\n",
      "spotify genres: pop, modern alternative rock, modern rock\n",
      "last fm tags: [('indie', 100), ('indie rock', 65), ('alternative', 58), ('rock', 50), ('chill', 36), ('2013', 22), ('alternative rock', 15), ('dark', 15), ('emile haynie', 15), ('vocal', 8)]\n",
      "0fMUl0pPjBBhn0iAT7mVHW\n",
      "Under the Beat by Bambino Prodigio is classified as ambient\n",
      "spotify genres: \n",
      "last fm tags: [('ambient', 100)]\n",
      "40Vj9ZP7n7rwEliCgLPLip\n",
      "Darker Than This by Emile Mosseri is classified as ambient\n",
      "spotify genres: \n",
      "last fm tags: [('ambient', 100)]\n",
      "6ZLt6fyonW1xOGMBC9vJPJ\n",
      "How To Never Stop Being Sad by dandelion hands is classified as lo-fi indie\n",
      "spotify genres: corecore, pov: indie, lo-fi emo, lo-fi indie\n",
      "last fm tags: [('poetry', 100), ('emo', 50), ('sad', 50), ('Avant-Garde', 50), ('spoken word', 50), ('ouch', 50), ('bottom of a bottle', 50), ('songs I will listen to before I kill myself', 50), ('songs with odd titles', 50)]\n",
      "6hUTzxvNiJ1c0lYqgoOTBW\n",
      "Motel 6 by River Whyless is classified as indie folk\n",
      "spotify genres: folk-pop, north carolina roots, asheville indie, stomp and flutter, stomp and holler, indie folk, new americana\n",
      "last fm tags: [('halloween spotify', 100)]\n",
      "0I1eFRytp4XRhLCjT6tZm7\n",
      "I Can't Handle Change by Roar is classified as indie rock\n",
      "spotify genres: pov: indie, weirdcore\n",
      "last fm tags: [('indie rock', 100), ('indie', 67), ('indie pop', 67), ('rock', 34), ('alternative', 34), ('emo', 34), ('twee pop', 34), ('chamber pop', 34), ('psychedelic pop', 34), ('american', 34)]\n",
      "2ZgJ3fxDrGSi3VKe84YDAe\n",
      "The Mall & Misery by Broken Bells is classified as indie rock\n",
      "spotify genres: modern rock, indie rock, indietronica, chamber pop, la indie\n",
      "last fm tags: [('indie', 100), ('rock', 65), ('experimental', 43), ('indie rock', 43), ('indie pop', 29), ('alternative', 22), ('vugube62', 22), ('Head Groovage', 15), ('electronic', 8), ('seen live', 8)]\n",
      "1KcOU0q9AMXV9xi4tSzzCc\n",
      "Posthumous Forgiveness by Tame Impala is classified as psychedelic rock\n",
      "spotify genres: modern rock, rock, neo-psychedelic, australian psych\n",
      "last fm tags: [('Psychedelic Rock', 100), ('psychedelic pop', 67), ('psychedelic', 67), ('rock', 34), ('alternative rock', 34), ('indie rock', 34), ('sad', 34), ('Psychedelic Soul', 34), ('excellent', 34), ('amazing', 34)]\n"
     ]
    }
   ],
   "source": [
    "for song_id in not_in_taxonomy:\n",
    "    song = [s for s in liked_songs if s['id'] == song_id][0]\n",
    "    print(song_id)\n",
    "    print(f\"{song['name']} by {', '.join([a['name'] for a in [a for a in artists if a['id'] in song['artists']]])} is classified as {not_in_taxonomy[song_id]}\")\n",
    "    print(f\"spotify genres: {', '.join(spotify_artist_genres_by_song[song_id])}\")\n",
    "    print(f\"last fm tags: {top_tags_by_song.get(song_id, {})}\")"
   ]
  },
  {
   "cell_type": "markdown",
   "metadata": {},
   "source": [
    "For the corrections we used google search, incorporated the top tags and artist level genre information."
   ]
  },
  {
   "cell_type": "code",
   "execution_count": 151,
   "metadata": {},
   "outputs": [],
   "source": [
    "classified_songs_dict['0V5cvmTKsYmF5FmGGEAfmS'] = 'indie'\n",
    "classified_songs_dict['54KFQB6N4pn926IUUYZGzK'] = 'folk'\n",
    "classified_songs_dict['7CH99b2i1TXS5P8UUyWtnM'] = 'r&b'\n",
    "classified_songs_dict['4zIeRcsaho6lZuaXEYR1y3'] = 'indie'\n",
    "classified_songs_dict['56LT08MMJHU6cw27V2ekLi'] = 'indie'\n",
    "classified_songs_dict['0SbqAmDVwJ0m8lxQZRbuoy'] = 'alternative' # hungary mentioned\n",
    "classified_songs_dict['1acjIzGS1YUrx6nSuktnqU'] = 'alternative'\n",
    "classified_songs_dict['4fPBB44eDH71YohayI4eKV'] = 'indie'\n",
    "classified_songs_dict['5gDWsRxpJ2lZAffh5p7K0w'] = 'r&b'\n",
    "classified_songs_dict['0BaFtki3CupqritofvTRSj'] = 'indie'\n",
    "classified_songs_dict['2O5UcpKolgLT8l8yAvEmID'] = 'alternative'\n",
    "classified_songs_dict['60OY6A1Eyz3a4aPDbV7LV0'] = 'alternative'\n",
    "classified_songs_dict['1tNwAjyfDSQvFeY5JKDw9b'] = 'indie'\n",
    "classified_songs_dict['30uvCVEYqgktyLfDcI76Hx'] = 'indie'\n",
    "classified_songs_dict['629TAjfFRi1ealJowp24bo'] = 'indie'\n",
    "classified_songs_dict['0oxYB9GoOIDrdzniNdKC44'] = 'indie'\n",
    "classified_songs_dict['5fbQCQt91LsVgXusFS0CCD'] = 'indie'\n",
    "classified_songs_dict['44DNg8OmuNKSDkccspGCIP'] = 'indie'\n",
    "classified_songs_dict['2kkX9IzielZhUBybezdE0m'] = 'indie'\n",
    "classified_songs_dict['4WFcerMZkAIcIizZYXNNrb'] = 'indie'\n",
    "classified_songs_dict['26CfdVmYf0hNvP6SJXF0vQ'] = 'electronica'\n",
    "classified_songs_dict['7brQHA2CgQpcMBiOlfiXYb'] = 'pop rock'\n",
    "classified_songs_dict['0fMUl0pPjBBhn0iAT7mVHW'] = 'ambient'\n",
    "classified_songs_dict['40Vj9ZP7n7rwEliCgLPLip'] = 'ambient'\n",
    "classified_songs_dict['6ZLt6fyonW1xOGMBC9vJPJ'] = 'indie'\n",
    "classified_songs_dict['6hUTzxvNiJ1c0lYqgoOTBW'] = 'folk'\n",
    "classified_songs_dict['0I1eFRytp4XRhLCjT6tZm7'] = 'indie'\n",
    "classified_songs_dict['2ZgJ3fxDrGSi3VKe84YDAe'] = 'indie'\n",
    "classified_songs_dict['1KcOU0q9AMXV9xi4tSzzCc'] = 'indie'\n",
    "classified_songs_dict['76c1AuZodByXM3X2k48wju'] = 'alternative'"
   ]
  },
  {
   "cell_type": "code",
   "execution_count": 152,
   "metadata": {},
   "outputs": [],
   "source": [
    "subgenres = {\n",
    "    \"alternative\": \"rock\",\n",
    "    \"indie\": \"rock\",\n",
    "    \"classic rock\": \"rock\",\n",
    "    \"electronica\": \"electronic\",\n",
    "    \"edm\": \"electronic\",\n",
    "    \"house\": \"electronic\",\n",
    "    \"techno\": \"electronic\",\n",
    "    \"ambient\": \"electronic\", # new one\n",
    "    \"synthwave\": \"electronic\",\n",
    "    \"hip hop\": \"hip hop/rap\",\n",
    "    \"rap\": \"hip hop/rap\",\n",
    "    \"lo-fi hip hop\": \"hip hop/rap\",\n",
    "    \"indie pop\": \"pop\",\n",
    "    \"synthpop\": \"pop\",\n",
    "    \"pop rock\": \"pop\",\n",
    "    \"r&b\": \"pop\",\n",
    "    \"folk\": \"folk/world\",\n",
    "    \"country\": \"folk/world\",\n",
    "    \"americana\": \"folk/world\",\n",
    "    \"reggae\": \"folk/world\",\n",
    "    \"classical\": \"classical/jazz\",\n",
    "    \"jazz\": \"classical/jazz\",\n",
    "    \"other\": \"other\",\n",
    "}"
   ]
  },
  {
   "cell_type": "code",
   "execution_count": 153,
   "metadata": {},
   "outputs": [],
   "source": [
    "# check if the taxonomy actually contains these\n",
    "not_in_taxonomy_2 = {}\n",
    "for song in classified_songs_dict:\n",
    "    sub_genre = classified_songs_dict[song]\n",
    "    if sub_genre not in subgenres:\n",
    "        print(f\"{classified_songs_dict[song]} is not in the subgenres, with song id {song}\")\n",
    "        not_in_taxonomy_2[song] = sub_genre"
   ]
  },
  {
   "cell_type": "code",
   "execution_count": 155,
   "metadata": {},
   "outputs": [
    {
     "data": {
      "text/plain": [
       "{'added_at': '2024-05-04T11:21:04Z',\n",
       " 'id': '4ZZ0RMb49n8hZZvXnxRsjo',\n",
       " 'uri': 'spotify:track:4ZZ0RMb49n8hZZvXnxRsjo',\n",
       " 'name': 'Skimming Stones',\n",
       " 'popularity': 32,\n",
       " 'track_number': 7,\n",
       " 'disc_number': 1,\n",
       " 'explicit': False,\n",
       " 'duration_ms': 137624,\n",
       " 'album_id': '0ET7qPmTvZttpRARj5JSBA',\n",
       " 'album_name': 'The Lakes',\n",
       " 'album_uri': 'spotify:album:0ET7qPmTvZttpRARj5JSBA',\n",
       " 'artists': ['1jVvXqdwDHekLwFBamrcUx'],\n",
       " 'danceability': 0.564,\n",
       " 'energy': 0.534,\n",
       " 'key': 7,\n",
       " 'loudness': -9.234,\n",
       " 'mode': 1,\n",
       " 'speechiness': 0.155,\n",
       " 'acousticness': 0.612,\n",
       " 'instrumentalness': 0.00409,\n",
       " 'liveness': 0.104,\n",
       " 'valence': 0.271,\n",
       " 'tempo': 86.547,\n",
       " 'sub_genre': 'hip hop',\n",
       " 'main_genre': 'hip hop/rap'}"
      ]
     },
     "execution_count": 155,
     "metadata": {},
     "output_type": "execute_result"
    }
   ],
   "source": [
    "# add classified songs dict genres to liked songs\n",
    "for song in liked_songs:\n",
    "    if song['id'] in classified_songs_dict:\n",
    "        song['sub_genre'] = classified_songs_dict[song['id']]\n",
    "        song['main_genre'] = subgenres[song['sub_genre']]\n",
    "    else:\n",
    "        print(f\"Song {song['name']} with id {song['id']} is not classified\")\n",
    "liked_songs[0]"
   ]
  },
  {
   "cell_type": "code",
   "execution_count": 156,
   "metadata": {},
   "outputs": [
    {
     "data": {
      "text/plain": [
       "Counter({'rock': 99,\n",
       "         'pop': 80,\n",
       "         'electronic': 66,\n",
       "         'hip hop/rap': 39,\n",
       "         'other': 38,\n",
       "         'folk/world': 18,\n",
       "         'classical/jazz': 16})"
      ]
     },
     "execution_count": 156,
     "metadata": {},
     "output_type": "execute_result"
    }
   ],
   "source": [
    "# get frequency or main genres\n",
    "main_genre_counter = Counter([song['main_genre'] for song in liked_songs])\n",
    "main_genre_counter"
   ]
  },
  {
   "cell_type": "code",
   "execution_count": 157,
   "metadata": {},
   "outputs": [],
   "source": [
    "# save liked songs with genres\n",
    "with open('experimental/liked_songs_with_audio_features_and_genres.json', 'w') as f:\n",
    "    json.dump(liked_songs, f)"
   ]
  }
 ],
 "metadata": {
  "kernelspec": {
   "display_name": ".venv",
   "language": "python",
   "name": "python3"
  },
  "language_info": {
   "codemirror_mode": {
    "name": "ipython",
    "version": 3
   },
   "file_extension": ".py",
   "mimetype": "text/x-python",
   "name": "python",
   "nbconvert_exporter": "python",
   "pygments_lexer": "ipython3",
   "version": "3.10.11"
  }
 },
 "nbformat": 4,
 "nbformat_minor": 2
}
