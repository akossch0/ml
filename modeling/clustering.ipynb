{
 "cells": [
  {
   "cell_type": "markdown",
   "metadata": {},
   "source": [
    "# Classification"
   ]
  },
  {
   "cell_type": "code",
   "execution_count": 1,
   "metadata": {},
   "outputs": [],
   "source": [
    "# Importing packages\n",
    "import pandas as pd"
   ]
  },
  {
   "cell_type": "markdown",
   "metadata": {},
   "source": [
    "## Loading the dataset\n",
    "We make sure to parse categorical variables and dates correctly like described in the [eda](../eda/tracks-eda.ipynb). "
   ]
  },
  {
   "cell_type": "code",
   "execution_count": 2,
   "metadata": {},
   "outputs": [],
   "source": [
    "# open json\n",
    "df = pd.read_json('../data/feature_extr_tracks.json')\n",
    "\n",
    "# change columns_of_interest to categorical\n",
    "columns_of_interest = ['sub_genre', 'main_genre', 'time_signature', 'mode', 'key', 'track_number', 'disc_number']\n",
    "df[columns_of_interest] = df[columns_of_interest].astype('str')"
   ]
  },
  {
   "cell_type": "code",
   "execution_count": 3,
   "metadata": {},
   "outputs": [
    {
     "name": "stdout",
     "output_type": "stream",
     "text": [
      "<class 'pandas.core.frame.DataFrame'>\n",
      "RangeIndex: 356 entries, 0 to 355\n",
      "Data columns (total 35 columns):\n",
      " #   Column                  Non-Null Count  Dtype         \n",
      "---  ------                  --------------  -----         \n",
      " 0   added_at                356 non-null    datetime64[ns]\n",
      " 1   id                      356 non-null    object        \n",
      " 2   uri                     356 non-null    object        \n",
      " 3   name                    356 non-null    object        \n",
      " 4   popularity              356 non-null    int64         \n",
      " 5   track_number            356 non-null    object        \n",
      " 6   disc_number             356 non-null    object        \n",
      " 7   explicit                356 non-null    bool          \n",
      " 8   duration_ms             356 non-null    int64         \n",
      " 9   album_id                356 non-null    object        \n",
      " 10  album_name              356 non-null    object        \n",
      " 11  album_uri               356 non-null    object        \n",
      " 12  artists                 356 non-null    object        \n",
      " 13  danceability            356 non-null    float64       \n",
      " 14  energy                  356 non-null    float64       \n",
      " 15  key                     356 non-null    object        \n",
      " 16  loudness                356 non-null    float64       \n",
      " 17  mode                    356 non-null    object        \n",
      " 18  speechiness             356 non-null    float64       \n",
      " 19  acousticness            356 non-null    float64       \n",
      " 20  instrumentalness        356 non-null    float64       \n",
      " 21  liveness                356 non-null    float64       \n",
      " 22  valence                 356 non-null    float64       \n",
      " 23  tempo                   356 non-null    float64       \n",
      " 24  time_signature          356 non-null    object        \n",
      " 25  sub_genre               356 non-null    object        \n",
      " 26  main_genre              356 non-null    object        \n",
      " 27  album_size              356 non-null    int64         \n",
      " 28  album_popularity        356 non-null    int64         \n",
      " 29  album_release_date      356 non-null    int64         \n",
      " 30  album_type              356 non-null    object        \n",
      " 31  sp_artist_genres_count  356 non-null    int64         \n",
      " 32  artist_popularity       356 non-null    float64       \n",
      " 33  artist_followers        356 non-null    float64       \n",
      " 34  artist_album_count      356 non-null    float64       \n",
      "dtypes: bool(1), datetime64[ns](1), float64(12), int64(6), object(15)\n",
      "memory usage: 95.0+ KB\n"
     ]
    }
   ],
   "source": [
    "df.info()"
   ]
  }
 ],
 "metadata": {
  "kernelspec": {
   "display_name": "ml_env",
   "language": "python",
   "name": "python3"
  },
  "language_info": {
   "codemirror_mode": {
    "name": "ipython",
    "version": 3
   },
   "file_extension": ".py",
   "mimetype": "text/x-python",
   "name": "python",
   "nbconvert_exporter": "python",
   "pygments_lexer": "ipython3",
   "version": "3.12.2"
  }
 },
 "nbformat": 4,
 "nbformat_minor": 2
}
